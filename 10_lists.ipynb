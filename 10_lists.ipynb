{
 "cells": [
  {
   "cell_type": "markdown",
   "id": "4c780038-1fec-408a-bc9c-9971ba1108da",
   "metadata": {},
   "source": [
    "# Python Lists and List Methods\n",
    "\n",
    "## What is a List?\n",
    "A **list** in Python is an ordered, mutable collection of elements. It can contain elements of different types.\n",
    "\n",
    "### Creating a List:\n",
    "```python\n",
    "# Empty list\n",
    "my_list = []\n",
    "\n",
    "# List with elements\n",
    "numbers = [1, 2, 3, 4, 5]\n",
    "\n",
    "# Mixed data types\n",
    "mixed_list = [1, \"Hello\", 3.14, True]\n",
    "```\n",
    "\n",
    "## Common List Methods\n",
    "\n",
    "| Method | Description | Example |\n",
    "|--------|------------|---------|\n",
    "| `append(x)` | Adds an element `x` to the end of the list. | `my_list.append(10)` |\n",
    "| `extend(iterable)` | Extends the list by appending all elements from an iterable. | `my_list.extend([6, 7, 8])` |\n",
    "| `insert(index, x)` | Inserts `x` at the specified `index`. | `my_list.insert(2, \"Python\")` |\n",
    "| `remove(x)` | Removes the first occurrence of `x` in the list. | `my_list.remove(3)` |\n",
    "| `pop([index])` | Removes and returns the element at `index` (last element if index is not provided). | `my_list.pop(2)` |\n",
    "| `index(x)` | Returns the index of the first occurrence of `x`. | `my_list.index(4)` |\n",
    "| `count(x)` | Returns the number of times `x` appears in the list. | `my_list.count(2)` |\n",
    "| `sort()` | Sorts the list in ascending order. | `my_list.sort()` |\n",
    "| `reverse()` | Reverses the order of the list. | `my_list.reverse()` |\n",
    "| `copy()` | Returns a shallow copy of the list. | `new_list = my_list.copy()` |\n",
    "| `clear()` | Removes all elements from the list. | `my_list.clear()` |\n",
    "\n",
    "## Example Usage:\n",
    "```python\n",
    "fruits = [\"apple\", \"banana\", \"cherry\"]\n",
    "fruits.append(\"orange\")\n",
    "print(fruits)  # ['apple', 'banana', 'cherry', 'orange']\n",
    "\n",
    "fruits.sort()\n",
    "print(fruits)  # ['apple', 'banana', 'cherry', 'orange']\n",
    "```\n",
    "\n",
    " "
   ]
  },
  {
   "cell_type": "code",
   "execution_count": 2,
   "id": "32408932-9450-4b05-9713-3fbc634efb05",
   "metadata": {},
   "outputs": [],
   "source": [
    "l = [3,5,23,3]"
   ]
  },
  {
   "cell_type": "code",
   "execution_count": 3,
   "id": "4b4deb64-277d-4551-9b3e-c4d6497cae79",
   "metadata": {},
   "outputs": [
    {
     "data": {
      "text/plain": [
       "3"
      ]
     },
     "execution_count": 3,
     "metadata": {},
     "output_type": "execute_result"
    }
   ],
   "source": [
    "l[0]"
   ]
  },
  {
   "cell_type": "code",
   "execution_count": 5,
   "id": "f6929dca-6ed6-4033-b40a-0e4d79d22ff6",
   "metadata": {},
   "outputs": [
    {
     "data": {
      "text/plain": [
       "[4, 5, 23, 3]"
      ]
     },
     "execution_count": 5,
     "metadata": {},
     "output_type": "execute_result"
    }
   ],
   "source": [
    "l[0] = 4 #lists are mutable\n",
    "l"
   ]
  },
  {
   "cell_type": "code",
   "execution_count": 6,
   "id": "9a8afa39-c695-4393-a069-665d62f5dae4",
   "metadata": {},
   "outputs": [],
   "source": [
    "l.append(9)"
   ]
  },
  {
   "cell_type": "code",
   "execution_count": 7,
   "id": "eafc0d56-ac27-4842-aedb-723f90933a5b",
   "metadata": {},
   "outputs": [
    {
     "data": {
      "text/plain": [
       "[4, 5, 23, 3, 9]"
      ]
     },
     "execution_count": 7,
     "metadata": {},
     "output_type": "execute_result"
    }
   ],
   "source": [
    "l"
   ]
  },
  {
   "cell_type": "code",
   "execution_count": 8,
   "id": "69e5d598-d542-49d7-9a28-4a6fc03f4df5",
   "metadata": {},
   "outputs": [],
   "source": [
    "l.extend([2,1])"
   ]
  },
  {
   "cell_type": "code",
   "execution_count": 9,
   "id": "424ba1c7-0a3d-47d0-9431-ef908bddbb4c",
   "metadata": {},
   "outputs": [
    {
     "data": {
      "text/plain": [
       "[4, 5, 23, 3, 9, 2, 1]"
      ]
     },
     "execution_count": 9,
     "metadata": {},
     "output_type": "execute_result"
    }
   ],
   "source": [
    "l"
   ]
  },
  {
   "cell_type": "code",
   "execution_count": 11,
   "id": "d9acce0e-4934-4ad8-9479-ea18f77cefa1",
   "metadata": {},
   "outputs": [
    {
     "data": {
      "text/plain": [
       "[4, 200, 200, 5, 23, 3, 9, 2, 1]"
      ]
     },
     "execution_count": 11,
     "metadata": {},
     "output_type": "execute_result"
    }
   ],
   "source": [
    "l.insert(1,200) #insert 200 at index 1\n",
    "l"
   ]
  },
  {
   "cell_type": "code",
   "execution_count": 12,
   "id": "b5a253b6-4b0f-42a6-9346-19d90470dd64",
   "metadata": {},
   "outputs": [
    {
     "data": {
      "text/plain": [
       "23"
      ]
     },
     "execution_count": 12,
     "metadata": {},
     "output_type": "execute_result"
    }
   ],
   "source": [
    "l.pop(4)"
   ]
  },
  {
   "cell_type": "code",
   "execution_count": 13,
   "id": "3220cd03-e3d2-4c00-8b03-2eba540f3327",
   "metadata": {},
   "outputs": [
    {
     "data": {
      "text/plain": [
       "[4, 200, 200, 5, 3, 9, 2, 1]"
      ]
     },
     "execution_count": 13,
     "metadata": {},
     "output_type": "execute_result"
    }
   ],
   "source": [
    "l"
   ]
  },
  {
   "cell_type": "code",
   "execution_count": 15,
   "id": "93332e0c-7034-4d0d-863b-fa1fdf88333b",
   "metadata": {},
   "outputs": [
    {
     "data": {
      "text/plain": [
       "0"
      ]
     },
     "execution_count": 15,
     "metadata": {},
     "output_type": "execute_result"
    }
   ],
   "source": [
    "l.index(4)"
   ]
  },
  {
   "cell_type": "code",
   "execution_count": 16,
   "id": "5cd01297-bc31-43c6-a010-0d8cd7f448d8",
   "metadata": {},
   "outputs": [
    {
     "data": {
      "text/plain": [
       "2"
      ]
     },
     "execution_count": 16,
     "metadata": {},
     "output_type": "execute_result"
    }
   ],
   "source": [
    "l.count(200)"
   ]
  },
  {
   "cell_type": "code",
   "execution_count": 17,
   "id": "e64acbb7-009b-491a-a83f-6d87d5b9a26c",
   "metadata": {},
   "outputs": [
    {
     "data": {
      "text/plain": [
       "[1, 2, 3, 4, 5, 9, 200, 200]"
      ]
     },
     "execution_count": 17,
     "metadata": {},
     "output_type": "execute_result"
    }
   ],
   "source": [
    "l.sort() #sort the original list\n",
    "l"
   ]
  },
  {
   "cell_type": "code",
   "execution_count": 19,
   "id": "9d5b625b-b30b-4449-aa27-2ed9e9e8ca4e",
   "metadata": {},
   "outputs": [
    {
     "data": {
      "text/plain": [
       "[1, 2, 3, 4, 5, 9, 200, 200]"
      ]
     },
     "execution_count": 19,
     "metadata": {},
     "output_type": "execute_result"
    }
   ],
   "source": [
    "sorted(l) #returns a sorted list and does not change the original list"
   ]
  },
  {
   "cell_type": "code",
   "execution_count": 20,
   "id": "32afd043-30af-4742-90c3-1529acc3f44a",
   "metadata": {},
   "outputs": [],
   "source": [
    "y=[1,2,True, False,[4,7]]"
   ]
  },
  {
   "cell_type": "code",
   "execution_count": 21,
   "id": "73e84b7c-6a49-4379-9988-4224e6c17752",
   "metadata": {},
   "outputs": [
    {
     "data": {
      "text/plain": [
       "[1, 2, True, False, [4, 7]]"
      ]
     },
     "execution_count": 21,
     "metadata": {},
     "output_type": "execute_result"
    }
   ],
   "source": [
    "y"
   ]
  },
  {
   "cell_type": "code",
   "execution_count": 22,
   "id": "3fed76dc-3a2e-4e8d-8d22-e8e8d444ca2d",
   "metadata": {},
   "outputs": [
    {
     "data": {
      "text/plain": [
       "[4, 7]"
      ]
     },
     "execution_count": 22,
     "metadata": {},
     "output_type": "execute_result"
    }
   ],
   "source": [
    "y[4]"
   ]
  },
  {
   "cell_type": "code",
   "execution_count": 23,
   "id": "24596b0f-66b7-4201-a9e4-0c2a1ec9de51",
   "metadata": {},
   "outputs": [
    {
     "data": {
      "text/plain": [
       "4"
      ]
     },
     "execution_count": 23,
     "metadata": {},
     "output_type": "execute_result"
    }
   ],
   "source": [
    "y[4][0]"
   ]
  },
  {
   "cell_type": "code",
   "execution_count": 24,
   "id": "dc8fe0ab-cba8-4826-8dd4-c84fb3a26210",
   "metadata": {},
   "outputs": [],
   "source": [
    "list1 = [1,2,3]"
   ]
  },
  {
   "cell_type": "code",
   "execution_count": 25,
   "id": "408e1ae4-0969-48f3-830f-e575fe9981d4",
   "metadata": {},
   "outputs": [],
   "source": [
    "list2 = [4,5,6]"
   ]
  },
  {
   "cell_type": "code",
   "execution_count": 29,
   "id": "f6010b3d-5b1c-4b05-b9f9-8b1ec0586716",
   "metadata": {},
   "outputs": [
    {
     "data": {
      "text/plain": [
       "[1, 2, 3, 4, 5, 6]"
      ]
     },
     "execution_count": 29,
     "metadata": {},
     "output_type": "execute_result"
    }
   ],
   "source": [
    "list3 = list1+list2 #provides a new list\n",
    "list3"
   ]
  },
  {
   "cell_type": "code",
   "execution_count": 30,
   "id": "47e4e6b5-38be-4d5f-8118-b5400ef5a76a",
   "metadata": {},
   "outputs": [
    {
     "name": "stdout",
     "output_type": "stream",
     "text": [
      "Yes\n"
     ]
    }
   ],
   "source": [
    "if 3 in list3:\n",
    "    print('Yes')"
   ]
  },
  {
   "cell_type": "code",
   "execution_count": 31,
   "id": "81c0e527-cfec-4e13-bfdf-27c3dc2894c5",
   "metadata": {},
   "outputs": [],
   "source": [
    "s = \"sumit-riya-amit-aman-suman\""
   ]
  },
  {
   "cell_type": "code",
   "execution_count": 32,
   "id": "9c68cd1e-ade2-4166-bae1-63b18af46262",
   "metadata": {},
   "outputs": [
    {
     "data": {
      "text/plain": [
       "['sumit', 'riya', 'amit', 'aman', 'suman']"
      ]
     },
     "execution_count": 32,
     "metadata": {},
     "output_type": "execute_result"
    }
   ],
   "source": [
    "s.split('-')"
   ]
  },
  {
   "cell_type": "code",
   "execution_count": null,
   "id": "1d4736f5-a6d5-4153-9863-8074612533cc",
   "metadata": {},
   "outputs": [],
   "source": []
  }
 ],
 "metadata": {
  "kernelspec": {
   "display_name": "Python 3 (ipykernel)",
   "language": "python",
   "name": "python3"
  },
  "language_info": {
   "codemirror_mode": {
    "name": "ipython",
    "version": 3
   },
   "file_extension": ".py",
   "mimetype": "text/x-python",
   "name": "python",
   "nbconvert_exporter": "python",
   "pygments_lexer": "ipython3",
   "version": "3.13.2"
  }
 },
 "nbformat": 4,
 "nbformat_minor": 5
}
