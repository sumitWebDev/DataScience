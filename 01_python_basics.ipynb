{
 "cells": [
  {
   "cell_type": "code",
   "execution_count": 1,
   "id": "d2645587-57ef-4f5c-aece-55a89db9e6b4",
   "metadata": {},
   "outputs": [],
   "source": [
    "a = 5"
   ]
  },
  {
   "cell_type": "code",
   "execution_count": 2,
   "id": "6569778d-2caa-4db9-8249-cf4948d71729",
   "metadata": {},
   "outputs": [],
   "source": [
    "b = 32"
   ]
  },
  {
   "cell_type": "code",
   "execution_count": 3,
   "id": "e8959518-5a30-405e-b7cb-0e7568dfb728",
   "metadata": {},
   "outputs": [
    {
     "data": {
      "text/plain": [
       "37"
      ]
     },
     "execution_count": 3,
     "metadata": {},
     "output_type": "execute_result"
    }
   ],
   "source": [
    "a+b"
   ]
  },
  {
   "cell_type": "code",
   "execution_count": 4,
   "id": "ccab15ff-824d-4023-b5fa-ce980750d06a",
   "metadata": {},
   "outputs": [
    {
     "name": "stdout",
     "output_type": "stream",
     "text": [
      "Hello World\n"
     ]
    }
   ],
   "source": [
    "print('Hello World')"
   ]
  },
  {
   "cell_type": "code",
   "execution_count": 5,
   "id": "812d3504-8179-4dd3-b980-ec149c526944",
   "metadata": {},
   "outputs": [],
   "source": [
    "# This is a comment"
   ]
  },
  {
   "cell_type": "code",
   "execution_count": 6,
   "id": "95f58fc9-26dd-4658-8d51-245ce7fb022c",
   "metadata": {},
   "outputs": [],
   "source": [
    "a = '23'"
   ]
  },
  {
   "cell_type": "code",
   "execution_count": 8,
   "id": "19659ef2-2471-4e5e-bc89-773f23a2d6a8",
   "metadata": {},
   "outputs": [],
   "source": [
    "b = '32'"
   ]
  },
  {
   "cell_type": "code",
   "execution_count": 9,
   "id": "d98b4e3b-3d13-4bca-943e-0a25a5cfb454",
   "metadata": {},
   "outputs": [
    {
     "data": {
      "text/plain": [
       "'2332'"
      ]
     },
     "execution_count": 9,
     "metadata": {},
     "output_type": "execute_result"
    }
   ],
   "source": [
    "a+b"
   ]
  },
  {
   "cell_type": "code",
   "execution_count": 10,
   "id": "f025a3e6-a8e0-48bf-876b-cd0309e6045b",
   "metadata": {},
   "outputs": [
    {
     "data": {
      "text/plain": [
       "55"
      ]
     },
     "execution_count": 10,
     "metadata": {},
     "output_type": "execute_result"
    }
   ],
   "source": [
    "int(a)+int(b)"
   ]
  },
  {
   "cell_type": "code",
   "execution_count": null,
   "id": "b12853fd-4af7-4bab-8cd0-79c67355da6f",
   "metadata": {},
   "outputs": [],
   "source": []
  }
 ],
 "metadata": {
  "kernelspec": {
   "display_name": "Python 3 (ipykernel)",
   "language": "python",
   "name": "python3"
  },
  "language_info": {
   "codemirror_mode": {
    "name": "ipython",
    "version": 3
   },
   "file_extension": ".py",
   "mimetype": "text/x-python",
   "name": "python",
   "nbconvert_exporter": "python",
   "pygments_lexer": "ipython3",
   "version": "3.13.2"
  }
 },
 "nbformat": 4,
 "nbformat_minor": 5
}
