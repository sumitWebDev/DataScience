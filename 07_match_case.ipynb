{
 "cells": [
  {
   "cell_type": "markdown",
   "id": "3f7eb858-fe92-468b-831d-0feaadc4a630",
   "metadata": {},
   "source": [
    " \n",
    "# Match-Case in Python\n",
    "\n",
    "The `match-case` statement, introduced in Python 3.10, provides pattern matching similar to `switch` statements in other languages.\n",
    "\n",
    "## Syntax\n",
    "\n",
    "```python\n",
    "def http_status(code):\n",
    "    match code:\n",
    "        case 200:\n",
    "            return \"OK\"\n",
    "        case 400:\n",
    "            return \"Bad Request\"\n",
    "        case 404:\n",
    "            return \"Not Found\"\n",
    "        case 500:\n",
    "            return \"Internal Server Error\"\n",
    "        case _:\n",
    "            return \"Unknown Status\"\n",
    "\n",
    "print(http_status(200))  # Output: OK\n",
    "print(http_status(404))  # Output: Not Found\n",
    "```\n",
    "\n",
    "## Features:\n",
    "- The `_` (underscore) acts as a default case.\n",
    "- Patterns can include literals, variable bindings, and even structural patterns.\n",
    "\n",
    "## Example: Matching Data Structures\n",
    "\n",
    "```python\n",
    "point = (3, 4)\n",
    "\n",
    "match point:\n",
    "    case (0, 0):\n",
    "        print(\"Origin\")\n",
    "    case (x, 0):\n",
    "        print(f\"X-Axis at {x}\")\n",
    "    case (0, y):\n",
    "        print(f\"Y-Axis at {y}\")\n",
    "    case (x, y):\n",
    "        print(f\"Point at ({x}, {y})\")\n",
    "```\n",
    " "
   ]
  },
  {
   "cell_type": "code",
   "execution_count": 4,
   "id": "6dd801d2-b7c0-441d-b6fb-02ba9afbe968",
   "metadata": {},
   "outputs": [],
   "source": [
    "code = 500"
   ]
  },
  {
   "cell_type": "code",
   "execution_count": 8,
   "id": "4b5e6df8-bcac-4115-8a46-db1e003a45b5",
   "metadata": {},
   "outputs": [
    {
     "name": "stdout",
     "output_type": "stream",
     "text": [
      "Not matched\n",
      "EOD\n"
     ]
    }
   ],
   "source": [
    "match code:\n",
    "    case 200:\n",
    "        print(\"OK\")\n",
    "    case 400:\n",
    "        print(\"failed\")\n",
    "    case _:\n",
    "        print(\"Not matched\")\n",
    "\n",
    "print(\"EOD\")\n",
    "    "
   ]
  },
  {
   "cell_type": "code",
   "execution_count": null,
   "id": "5525a57a-ff04-40c2-a465-67365e864411",
   "metadata": {},
   "outputs": [],
   "source": []
  },
  {
   "cell_type": "code",
   "execution_count": null,
   "id": "7adaf8a0-a216-41c2-b10d-217083a0b1ca",
   "metadata": {},
   "outputs": [],
   "source": []
  }
 ],
 "metadata": {
  "kernelspec": {
   "display_name": "Python 3 (ipykernel)",
   "language": "python",
   "name": "python3"
  },
  "language_info": {
   "codemirror_mode": {
    "name": "ipython",
    "version": 3
   },
   "file_extension": ".py",
   "mimetype": "text/x-python",
   "name": "python",
   "nbconvert_exporter": "python",
   "pygments_lexer": "ipython3",
   "version": "3.13.2"
  }
 },
 "nbformat": 4,
 "nbformat_minor": 5
}
