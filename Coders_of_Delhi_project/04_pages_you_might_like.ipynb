{
 "cells": [
  {
   "cell_type": "code",
   "execution_count": 27,
   "id": "2fd1d7ec-6813-4b9f-b4a6-72ab3fa46308",
   "metadata": {
    "editable": true,
    "slideshow": {
     "slide_type": ""
    },
    "tags": []
   },
   "outputs": [
    {
     "name": "stdout",
     "output_type": "stream",
     "text": [
      "user_pages-> dict_items([(1, {101}), (2, {102}), (3, {101, 103}), (4, {104}), (5, set())])\n",
      "user_liked_pages-> {101}\n",
      "[103, 102, 104]\n"
     ]
    }
   ],
   "source": [
    "import json\n",
    "\n",
    "# Function to load out the JSON data\n",
    "def load_data(filename):\n",
    "    with open (filename, \"r\") as f:\n",
    "        return json.load(f)\n",
    "        \n",
    "#Function to find pages the user might like\n",
    "def find_pages_you_might_like(user_id, data):\n",
    "    # Dictionary to store user interaction with \n",
    "    user_pages = {}\n",
    "    \n",
    "    #Populate the dictionary\n",
    "    for user in data['users']:\n",
    "        user_pages[user['id']] = set(user['liked_pages'])\n",
    "    \n",
    "    #If user not found in, return empty list\n",
    "    if user_id not in user_pages:\n",
    "        return[]\n",
    "        \n",
    "    user_liked_pages = user_pages[user_id]\n",
    "    page_suggestion = {}\n",
    "    for other_user,pages in user_pages.items():\n",
    "        if other_user != user_id:\n",
    "            shared_pages = user_liked_pages.intersection(pages)\n",
    "        for page in pages:\n",
    "            if page not in user_liked_pages:\n",
    "                page_suggestion[page] = page_suggestion.get('get',0) + len(shared_pages)\n",
    "\n",
    "    sorted_pages = sorted(page_suggestion.items(),key= lambda X:X[1], reverse=True)\n",
    "    print('user_pages->', user_pages.items())\n",
    "    print('user_liked_pages->', user_liked_pages)\n",
    "    return [page_id for page_id,_ in sorted_pages]\n",
    "\n",
    "data = load_data(\"data2.json\")\n",
    "user_id = 1\n",
    "recc = find_pages_you_might_like(user_id,data)\n",
    "print(recc)    "
   ]
  },
  {
   "cell_type": "code",
   "execution_count": null,
   "id": "056a35a2-db70-48c1-a78f-283436304374",
   "metadata": {
    "editable": true,
    "slideshow": {
     "slide_type": ""
    },
    "tags": []
   },
   "outputs": [],
   "source": []
  },
  {
   "cell_type": "code",
   "execution_count": null,
   "id": "bcb1f3d0-6325-4baa-90b5-bbd679175153",
   "metadata": {},
   "outputs": [],
   "source": []
  },
  {
   "cell_type": "code",
   "execution_count": null,
   "id": "2f5f2b05-0ed7-4b69-8a9d-83d33871fbce",
   "metadata": {},
   "outputs": [],
   "source": []
  }
 ],
 "metadata": {
  "kernelspec": {
   "display_name": "Python 3 (ipykernel)",
   "language": "python",
   "name": "python3"
  },
  "language_info": {
   "codemirror_mode": {
    "name": "ipython",
    "version": 3
   },
   "file_extension": ".py",
   "mimetype": "text/x-python",
   "name": "python",
   "nbconvert_exporter": "python",
   "pygments_lexer": "ipython3",
   "version": "3.13.2"
  }
 },
 "nbformat": 4,
 "nbformat_minor": 5
}
