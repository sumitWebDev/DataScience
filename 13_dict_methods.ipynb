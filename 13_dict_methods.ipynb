{
 "cells": [
  {
   "cell_type": "markdown",
   "id": "e9d035b6-4a58-4294-95c6-bf22ccd1757e",
   "metadata": {},
   "source": [
    "# Python Dictionaries and Dictionary Methods\n",
    "\n",
    "## What is a Dictionary?\n",
    "A **dictionary** in Python is an **unordered**, **mutable**, and **key-value** pair collection. It allows efficient data retrieval and modification. Dictionaries in Python are ordered as of Python 3.7\n",
    "\n",
    "### Creating a Dictionary:\n",
    "```python\n",
    "# Empty dictionary\n",
    "empty_dict = {}\n",
    "\n",
    "# Dictionary with key-value pairs\n",
    "student = {\n",
    "    \"name\": \"Alice\",\n",
    "    \"age\": 25,\n",
    "    \"grade\": \"A\"\n",
    "}\n",
    "\n",
    "# Using dict() constructor\n",
    "person = dict(name=\"John\", age=30, city=\"New York\")\n",
    "```\n",
    "\n",
    "## Accessing Dictionary Elements\n",
    "```python\n",
    "# Using keys\n",
    "print(student[\"name\"])  # Alice\n",
    "\n",
    "# Using get() (avoids KeyError if key doesn't exist)\n",
    "print(student.get(\"age\"))  # 25\n",
    "print(student.get(\"height\", \"Not Found\"))  # Default value\n",
    "```\n",
    "\n",
    "## Common Dictionary Methods\n",
    "\n",
    "| Method | Description | Example |\n",
    "|--------|------------|---------|\n",
    "| `keys()` | Returns all keys in the dictionary. | `student.keys()` |\n",
    "| `values()` | Returns all values in the dictionary. | `student.values()` |\n",
    "| `items()` | Returns key-value pairs as tuples. | `student.items()` |\n",
    "| `get(key, default)` | Returns value for `key`, or `default` if key not found. | `student.get(\"age\", 0)` |\n",
    "| `update(dict2)` | Merges `dict2` into the dictionary. | `student.update({\"age\": 26})` |\n",
    "| `pop(key, default)` | Removes key and returns its value (or `default` if key not found). | `student.pop(\"grade\")` |\n",
    "| `popitem()` | Removes and returns the last inserted key-value pair. | `student.popitem()` |\n",
    "| `setdefault(key, default)` | Returns value for `key`, else sets it to `default`. | `student.setdefault(\"city\", \"Unknown\")` |\n",
    "| `clear()` | Removes all items from the dictionary. | `student.clear()` |\n",
    "| `copy()` | Returns a shallow copy of the dictionary. | `new_dict = student.copy()` |\n",
    "\n",
    "## Example Usage:\n",
    "```python\n",
    "student = {\"name\": \"Alice\", \"age\": 25, \"grade\": \"A\"}\n",
    "\n",
    "# Adding a new key-value pair\n",
    "student[\"city\"] = \"New York\"\n",
    "\n",
    "# Updating an existing value\n",
    "student[\"age\"] = 26\n",
    "\n",
    "# Removing an item\n",
    "student.pop(\"grade\")\n",
    "\n",
    "# Iterating over a dictionary\n",
    "for key, value in student.items():\n",
    "    print(key, \":\", value)\n",
    "\n",
    "# Output:\n",
    "# name : Alice\n",
    "# age : 26\n",
    "# city : New York\n",
    "```\n",
    "\n",
    "## Dictionary Comprehension:\n",
    "```python\n",
    "# Creating a dictionary using comprehension\n",
    "squares = {x: x**2 for x in range(1, 6)}\n",
    "print(squares)  # {1: 1, 2: 4, 3: 9, 4: 16, 5: 25}\n",
    "```\n",
    "\n",
    "## Key Properties of Dictionaries:\n",
    "- **Unordered** (Python 3.6+ maintains insertion order).\n",
    "- **Keys must be unique and immutable** (e.g., strings, numbers, tuples).\n",
    "- **Values can be mutable** and of any type.\n"
   ]
  },
  {
   "cell_type": "code",
   "execution_count": 3,
   "id": "67e5c95e-0ee7-4fa5-adb6-fa161fc5ddf3",
   "metadata": {},
   "outputs": [],
   "source": [
    "d = {}"
   ]
  },
  {
   "cell_type": "code",
   "execution_count": 4,
   "id": "dd248ce3-5c51-4ca6-9cb5-a3675852c508",
   "metadata": {},
   "outputs": [
    {
     "data": {
      "text/plain": [
       "dict"
      ]
     },
     "execution_count": 4,
     "metadata": {},
     "output_type": "execute_result"
    }
   ],
   "source": [
    "type(d)"
   ]
  },
  {
   "cell_type": "code",
   "execution_count": 2,
   "id": "4d6be22b-6e6e-4617-bbb1-a12ff25bc982",
   "metadata": {},
   "outputs": [],
   "source": [
    "# Dictionary with key-value pairs\n",
    "student = {\n",
    "    \"name\": \"Alice\",\n",
    "    \"age\": 25,\n",
    "    \"grade\": \"A\"\n",
    "}"
   ]
  },
  {
   "cell_type": "code",
   "execution_count": 3,
   "id": "381299ba-ffcc-4ecb-a4b7-aa32840bb0ef",
   "metadata": {},
   "outputs": [
    {
     "data": {
      "text/plain": [
       "'Alice'"
      ]
     },
     "execution_count": 3,
     "metadata": {},
     "output_type": "execute_result"
    }
   ],
   "source": [
    "student[\"name\"]"
   ]
  },
  {
   "cell_type": "code",
   "execution_count": 4,
   "id": "3ba1dff7-a98f-4ab0-b7ef-d264af9fd6d7",
   "metadata": {},
   "outputs": [
    {
     "ename": "KeyError",
     "evalue": "'name4'",
     "output_type": "error",
     "traceback": [
      "\u001b[31m---------------------------------------------------------------------------\u001b[39m",
      "\u001b[31mKeyError\u001b[39m                                  Traceback (most recent call last)",
      "\u001b[36mCell\u001b[39m\u001b[36m \u001b[39m\u001b[32mIn[4]\u001b[39m\u001b[32m, line 1\u001b[39m\n\u001b[32m----> \u001b[39m\u001b[32m1\u001b[39m student[\u001b[33m\"\u001b[39m\u001b[33mname4\u001b[39m\u001b[33m\"\u001b[39m]\n",
      "\u001b[31mKeyError\u001b[39m: 'name4'"
     ]
    }
   ],
   "source": [
    "student[\"name4\"]"
   ]
  },
  {
   "cell_type": "code",
   "execution_count": 5,
   "id": "afda91eb-64fb-40f4-afdc-2c888e286ce5",
   "metadata": {},
   "outputs": [],
   "source": [
    "r = student.get(\"name4\")"
   ]
  },
  {
   "cell_type": "code",
   "execution_count": 6,
   "id": "9941a704-3c79-4951-b49f-6ef27abf2dc7",
   "metadata": {},
   "outputs": [
    {
     "name": "stdout",
     "output_type": "stream",
     "text": [
      "None\n"
     ]
    }
   ],
   "source": [
    "print(r)"
   ]
  },
  {
   "cell_type": "code",
   "execution_count": 7,
   "id": "9de6c9a3-0be8-4bcc-8f15-13db468f2cc9",
   "metadata": {},
   "outputs": [
    {
     "name": "stdout",
     "output_type": "stream",
     "text": [
      "25\n"
     ]
    }
   ],
   "source": [
    "print(student[\"age\"])"
   ]
  },
  {
   "cell_type": "code",
   "execution_count": 8,
   "id": "2dab9ae9-4b7b-42aa-b24e-83db078a2a64",
   "metadata": {},
   "outputs": [],
   "source": [
    "student[\"age\"] = 67"
   ]
  },
  {
   "cell_type": "code",
   "execution_count": 9,
   "id": "0a57e5ba-3482-4be7-9d0a-d1c27668f651",
   "metadata": {},
   "outputs": [
    {
     "name": "stdout",
     "output_type": "stream",
     "text": [
      "{'name': 'Alice', 'age': 67, 'grade': 'A'}\n"
     ]
    }
   ],
   "source": [
    "print(student)"
   ]
  },
  {
   "cell_type": "code",
   "execution_count": 10,
   "id": "6cf4458d-541a-479f-a978-253a39f00ed4",
   "metadata": {},
   "outputs": [
    {
     "data": {
      "text/plain": [
       "dict_keys(['name', 'age', 'grade'])"
      ]
     },
     "execution_count": 10,
     "metadata": {},
     "output_type": "execute_result"
    }
   ],
   "source": [
    "student.keys()"
   ]
  },
  {
   "cell_type": "code",
   "execution_count": 11,
   "id": "d0347ad3-5811-44c1-9040-965e0f47ce5b",
   "metadata": {},
   "outputs": [
    {
     "data": {
      "text/plain": [
       "dict_values(['Alice', 67, 'A'])"
      ]
     },
     "execution_count": 11,
     "metadata": {},
     "output_type": "execute_result"
    }
   ],
   "source": [
    "student.values()"
   ]
  },
  {
   "cell_type": "code",
   "execution_count": 12,
   "id": "a445dc97-d7c5-4678-a7a2-085b582cecd5",
   "metadata": {},
   "outputs": [
    {
     "data": {
      "text/plain": [
       "dict_items([('name', 'Alice'), ('age', 67), ('grade', 'A')])"
      ]
     },
     "execution_count": 12,
     "metadata": {},
     "output_type": "execute_result"
    }
   ],
   "source": [
    "student.items()"
   ]
  },
  {
   "cell_type": "code",
   "execution_count": 13,
   "id": "a1678f41-4695-4089-84b1-6191cac35e9d",
   "metadata": {},
   "outputs": [],
   "source": [
    "student.update({\"name\":\"Harry\"})"
   ]
  },
  {
   "cell_type": "code",
   "execution_count": 14,
   "id": "92c66b5c-409d-4dfb-994f-aa2170c2a74c",
   "metadata": {},
   "outputs": [
    {
     "name": "stdout",
     "output_type": "stream",
     "text": [
      "{'name': 'Harry', 'age': 67, 'grade': 'A'}\n"
     ]
    }
   ],
   "source": [
    "print(student)"
   ]
  },
  {
   "cell_type": "code",
   "execution_count": 15,
   "id": "aa02a258-0be5-4e60-a12b-cf7ae6fe126d",
   "metadata": {},
   "outputs": [],
   "source": [
    "student.update({\"name\":\"Ruchika\",\"language\":\"Python\"})"
   ]
  },
  {
   "cell_type": "code",
   "execution_count": 16,
   "id": "186426a4-4fd4-4062-8c7d-eba85c3116e1",
   "metadata": {},
   "outputs": [
    {
     "name": "stdout",
     "output_type": "stream",
     "text": [
      "{'name': 'Ruchika', 'age': 67, 'grade': 'A', 'language': 'Python'}\n"
     ]
    }
   ],
   "source": [
    "print(student)"
   ]
  },
  {
   "cell_type": "code",
   "execution_count": 25,
   "id": "ef757a8e-46b1-4bfe-912a-a8bb18eb654c",
   "metadata": {},
   "outputs": [
    {
     "name": "stdout",
     "output_type": "stream",
     "text": [
      "0\n"
     ]
    }
   ],
   "source": [
    "r = student.get('name3',0)\n",
    "print(r)"
   ]
  },
  {
   "cell_type": "code",
   "execution_count": null,
   "id": "7ca28ff8-a8e3-42ee-b823-9921eef8e2a0",
   "metadata": {},
   "outputs": [],
   "source": []
  }
 ],
 "metadata": {
  "kernelspec": {
   "display_name": "Python 3 (ipykernel)",
   "language": "python",
   "name": "python3"
  },
  "language_info": {
   "codemirror_mode": {
    "name": "ipython",
    "version": 3
   },
   "file_extension": ".py",
   "mimetype": "text/x-python",
   "name": "python",
   "nbconvert_exporter": "python",
   "pygments_lexer": "ipython3",
   "version": "3.13.2"
  }
 },
 "nbformat": 4,
 "nbformat_minor": 5
}
