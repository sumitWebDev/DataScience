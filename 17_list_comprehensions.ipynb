{
 "cells": [
  {
   "cell_type": "markdown",
   "id": "3d431e0a-7987-4f98-b7a7-c80e124abf91",
   "metadata": {},
   "source": [
    "# List Comprehensions in Python\n",
    "\n",
    "List comprehension is a **concise** and **efficient** way to create lists in Python. It allows you to generate lists in a **single line of code**, making your code more readable and Pythonic.\n",
    "\n",
    "---\n",
    "\n",
    "## 1. Basic Syntax\n",
    "\n",
    "```python\n",
    "[expression for item in iterable]\n",
    "```\n",
    "\n",
    "- `expression` → The operation to perform on each item  \n",
    "- `item` → The variable representing each element in the iterable  \n",
    "- `iterable` → The data structure being iterated over (list, range, etc.)\n",
    "\n",
    "### **Example: Creating a list of squares**\n",
    "```python\n",
    "squares = [x**2 for x in range(5)]\n",
    "print(squares)  # Output: [0, 1, 4, 9, 16]\n",
    "```\n",
    "\n",
    "---\n",
    "\n",
    "## 2. Using **if Condition** in List Comprehension\n",
    "\n",
    "### **Example: Filtering even numbers**\n",
    "```python\n",
    "evens = [x for x in range(10) if x % 2 == 0]\n",
    "print(evens)  # Output: [0, 2, 4, 6, 8]\n",
    "```\n",
    "\n",
    "---\n",
    "\n",
    "## 3. Using **if-else Condition** in List Comprehension\n",
    "\n",
    "### **Example: Replacing even numbers with \"Even\" and odd numbers with \"Odd\"**\n",
    "```python\n",
    "numbers = [\"Even\" if x % 2 == 0 else \"Odd\" for x in range(5)]\n",
    "print(numbers)  # Output: ['Even', 'Odd', 'Even', 'Odd', 'Even']\n",
    "```\n",
    "\n",
    "---\n",
    "\n",
    "## 4. Nested Loops in List Comprehension\n",
    "\n",
    "### **Example: Creating pairs from two lists**\n",
    "```python\n",
    "pairs = [(x, y) for x in range(2) for y in range(3)]\n",
    "print(pairs)  # Output: [(0, 0), (0, 1), (0, 2), (1, 0), (1, 1), (1, 2)]\n",
    "```\n",
    "\n",
    "---\n",
    "\n",
    "## 5. List Comprehension with Functions\n",
    "\n",
    "### **Example: Converting a list of strings to uppercase**\n",
    "```python\n",
    "words = [\"hello\", \"world\", \"python\"]\n",
    "upper_words = [word.upper() for word in words]\n",
    "print(upper_words)  # Output: ['HELLO', 'WORLD', 'PYTHON']\n",
    "```\n",
    "\n",
    "---\n",
    "\n",
    "## 6. List Comprehension with **Nested List Comprehension**\n",
    "\n",
    "### **Example: Flattening a 2D list**\n",
    "```python\n",
    "matrix = [[1, 2], [3, 4], [5, 6]]\n",
    "flattened = [num for row in matrix for num in row]\n",
    "print(flattened)  # Output: [1, 2, 3, 4, 5, 6]\n",
    "```\n",
    "\n",
    "---\n",
    "\n",
    "## 7. List Comprehension with **Set and Dictionary Comprehensions**\n",
    "\n",
    "### **Set Comprehension**\n",
    "```python\n",
    "unique_numbers = {x for x in [1, 2, 2, 3, 4, 4]}\n",
    "print(unique_numbers)  # Output: {1, 2, 3, 4}\n",
    "```\n",
    "\n",
    "### **Dictionary Comprehension**\n",
    "```python\n",
    "squared_dict = {x: x**2 for x in range(5)}\n",
    "print(squared_dict)  # Output: {0: 0, 1: 1, 2: 4, 3: 9, 4: 16}\n",
    "```\n",
    "\n",
    "---\n",
    "\n",
    "## 8. When to Use List Comprehensions?\n",
    "\n",
    "- You need to create a list in a **single line**  \n",
    "- The logic is **simple and readable**  \n",
    "- You want to improve **performance** (faster than loops)  \n",
    "\n",
    "Avoid when:\n",
    "- The logic is **too complex** (use a standard loop instead for clarity)  \n",
    "\n",
    "---\n",
    "\n",
    "## 9. Performance Comparison: **List Comprehension vs. Loop**\n",
    "```python\n",
    "import time\n",
    "\n",
    "# Using a for loop\n",
    "start = time.time()\n",
    "squares_loop = []\n",
    "for x in range(10**6):\n",
    "    squares_loop.append(x**2)\n",
    "print(\"Loop time:\", time.time() - start)\n",
    "\n",
    "# Using list comprehension\n",
    "start = time.time()\n",
    "squares_comp = [x**2 for x in range(10**6)]\n",
    "print(\"List Comprehension time:\", time.time() - start)\n",
    "```\n",
    "**List comprehensions are generally faster than loops** because they are optimized internally by Python.\n",
    "\n",
    "---\n",
    "\n",
    "## Summary\n",
    "\n",
    "| Concept | Example |\n",
    "|---------|---------|\n",
    "| **Basic List Comprehension** | `[x**2 for x in range(5)]` |\n",
    "| **With Condition (`if`)** | `[x for x in range(10) if x % 2 == 0]` |\n",
    "| **With `if-else`** | `[\"Even\" if x % 2 == 0 else \"Odd\" for x in range(5)]` |\n",
    "| **Nested Loop** | `[(x, y) for x in range(2) for y in range(3)]` |\n",
    "| **Flatten 2D List** | `[num for row in matrix for num in row]` |\n",
    "| **Set Comprehension** | `{x for x in [1, 2, 2, 3]}` |\n",
    "| **Dictionary Comprehension** | `{x: x**2 for x in range(5)}` |\n"
   ]
  },
  {
   "cell_type": "code",
   "execution_count": 1,
   "id": "eaa74598-f223-406d-85b7-9f36c8b194ab",
   "metadata": {},
   "outputs": [],
   "source": [
    "table = []"
   ]
  },
  {
   "cell_type": "code",
   "execution_count": 9,
   "id": "e3c6c5a7-8b9b-461c-ba1e-7918cdbfb258",
   "metadata": {},
   "outputs": [
    {
     "name": "stdout",
     "output_type": "stream",
     "text": [
      "2 X 1 = 2\n",
      "2 X 2 = 4\n",
      "2 X 3 = 6\n",
      "2 X 4 = 8\n",
      "2 X 5 = 10\n",
      "2 X 6 = 12\n",
      "2 X 7 = 14\n",
      "2 X 8 = 16\n",
      "2 X 9 = 18\n",
      "2 X 10 = 20\n"
     ]
    }
   ],
   "source": [
    "for i in range (1,11):\n",
    "    print(f\"2 X {i} = {2*i}\")\n",
    "    table.append(2*i)"
   ]
  },
  {
   "cell_type": "code",
   "execution_count": 10,
   "id": "e38e9345-ed12-4634-9692-d0a0e603767a",
   "metadata": {},
   "outputs": [
    {
     "data": {
      "text/plain": [
       "[2, 4, 6, 8, 10, 12, 14, 16, 18, 20]"
      ]
     },
     "execution_count": 10,
     "metadata": {},
     "output_type": "execute_result"
    }
   ],
   "source": [
    "table"
   ]
  },
  {
   "cell_type": "code",
   "execution_count": 11,
   "id": "e9a65c8d-fb73-467b-828d-3d468d20cffc",
   "metadata": {},
   "outputs": [],
   "source": [
    "t = [2*i for i in range(1,11)]"
   ]
  },
  {
   "cell_type": "code",
   "execution_count": 12,
   "id": "13fd1cc9-457b-4615-a53b-c91fa0ee18a8",
   "metadata": {},
   "outputs": [
    {
     "data": {
      "text/plain": [
       "[2, 4, 6, 8, 10, 12, 14, 16, 18, 20]"
      ]
     },
     "execution_count": 12,
     "metadata": {},
     "output_type": "execute_result"
    }
   ],
   "source": [
    "t"
   ]
  },
  {
   "cell_type": "code",
   "execution_count": 15,
   "id": "64c1a85d-1d03-4773-895e-6900375822c2",
   "metadata": {},
   "outputs": [],
   "source": [
    "t = [i for i in range(1,11)]"
   ]
  },
  {
   "cell_type": "code",
   "execution_count": 16,
   "id": "cb549734-811e-4d89-b459-b953a79589e4",
   "metadata": {},
   "outputs": [
    {
     "data": {
      "text/plain": [
       "[1, 2, 3, 4, 5, 6, 7, 8, 9, 10]"
      ]
     },
     "execution_count": 16,
     "metadata": {},
     "output_type": "execute_result"
    }
   ],
   "source": [
    "t"
   ]
  },
  {
   "cell_type": "code",
   "execution_count": 17,
   "id": "b8e39b68-6eb3-4f71-b3bf-68b981512a36",
   "metadata": {},
   "outputs": [],
   "source": [
    "t = [2*i for i in range(1,11) if i%2==0]"
   ]
  },
  {
   "cell_type": "code",
   "execution_count": 18,
   "id": "f6098fca-76d0-42a7-8246-01d97c0a9482",
   "metadata": {},
   "outputs": [
    {
     "data": {
      "text/plain": [
       "[4, 8, 12, 16, 20]"
      ]
     },
     "execution_count": 18,
     "metadata": {},
     "output_type": "execute_result"
    }
   ],
   "source": [
    "t"
   ]
  },
  {
   "cell_type": "code",
   "execution_count": null,
   "id": "22d28c58-2763-4c91-84ff-1eb40f6daa18",
   "metadata": {},
   "outputs": [],
   "source": []
  }
 ],
 "metadata": {
  "kernelspec": {
   "display_name": "Python 3 (ipykernel)",
   "language": "python",
   "name": "python3"
  },
  "language_info": {
   "codemirror_mode": {
    "name": "ipython",
    "version": 3
   },
   "file_extension": ".py",
   "mimetype": "text/x-python",
   "name": "python",
   "nbconvert_exporter": "python",
   "pygments_lexer": "ipython3",
   "version": "3.13.2"
  }
 },
 "nbformat": 4,
 "nbformat_minor": 5
}
