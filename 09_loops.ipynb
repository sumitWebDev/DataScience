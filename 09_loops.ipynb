{
 "cells": [
  {
   "cell_type": "markdown",
   "id": "6e59e3ee-12cd-4db9-bcdc-66e6e6a37719",
   "metadata": {},
   "source": [
    "# Loops in Python\n",
    "\n",
    "Python has two main loops: `for` and `while`.\n",
    "\n",
    "## 1. For Loop\n",
    "\n",
    "Used to iterate over sequences like lists, tuples, and strings.\n",
    "\n",
    "```python\n",
    "fruits = [\"apple\", \"banana\", \"cherry\"]\n",
    "\n",
    "for fruit in fruits:\n",
    "    print(fruit)\n",
    "```\n",
    "\n",
    "### Using `range()`\n",
    "```python\n",
    "for i in range(3):\n",
    "    print(i)  # Output: 0, 1, 2\n",
    "```\n",
    "\n",
    "## 2. While Loop\n",
    "\n",
    "Runs as long as a condition is `True`.\n",
    "\n",
    "```python\n",
    "count = 0\n",
    "while count < 3:\n",
    "    print(count)\n",
    "    count += 1\n",
    "```\n",
    "\n",
    "### Output:\n",
    "```\n",
    "0\n",
    "1\n",
    "2\n",
    "```\n",
    "\n",
    "## 3. Loop Control Statements\n",
    "- `break` → Exits the loop.\n",
    "- `continue` → Skips to the next iteration.\n",
    "- `pass` → Does nothing (used as a placeholder).\n",
    "\n",
    "```python\n",
    "for i in range(5):\n",
    "    if i == 3:\n",
    "        break  # Stops the loop at 3\n",
    "    print(i)\n",
    "```\n",
    " "
   ]
  },
  {
   "cell_type": "code",
   "execution_count": 1,
   "id": "1be3131b-b504-4f29-a5a7-634afd6aa81d",
   "metadata": {},
   "outputs": [],
   "source": [
    "l = [3,5,6,67]"
   ]
  },
  {
   "cell_type": "code",
   "execution_count": 5,
   "id": "25deca04-7ff2-4956-9af7-88c1cbc43c15",
   "metadata": {},
   "outputs": [
    {
     "name": "stdout",
     "output_type": "stream",
     "text": [
      "3\n",
      "5\n",
      "6\n",
      "67\n"
     ]
    }
   ],
   "source": [
    "for item in l:\n",
    "    print(item)"
   ]
  },
  {
   "cell_type": "code",
   "execution_count": 7,
   "id": "4a1b51f8-efbe-4934-801e-4232e8dd10d2",
   "metadata": {},
   "outputs": [
    {
     "name": "stdout",
     "output_type": "stream",
     "text": [
      "0\n",
      "1\n",
      "2\n",
      "3\n",
      "4\n",
      "5\n",
      "6\n",
      "7\n",
      "8\n",
      "9\n"
     ]
    }
   ],
   "source": [
    "for i in range(10):\n",
    "    print(i)"
   ]
  },
  {
   "cell_type": "code",
   "execution_count": 8,
   "id": "dd9525a8-b360-47b5-b770-7a3682f1febe",
   "metadata": {},
   "outputs": [
    {
     "name": "stdout",
     "output_type": "stream",
     "text": [
      "0\n",
      "1\n",
      "2\n",
      "3\n",
      "4\n",
      "5\n",
      "6\n",
      "7\n",
      "8\n",
      "9\n"
     ]
    }
   ],
   "source": [
    "for i in range(0,10):\n",
    "    print(i)"
   ]
  },
  {
   "cell_type": "code",
   "execution_count": 9,
   "id": "17dfd6bd-172a-41e1-b827-c5c008ac7ca4",
   "metadata": {},
   "outputs": [
    {
     "name": "stdout",
     "output_type": "stream",
     "text": [
      "1\n",
      "2\n",
      "3\n",
      "4\n",
      "5\n",
      "6\n",
      "7\n",
      "8\n",
      "9\n"
     ]
    }
   ],
   "source": [
    "for i in range(1,10):\n",
    "    print(i)"
   ]
  },
  {
   "cell_type": "code",
   "execution_count": 10,
   "id": "3ca7b6c2-ccf9-4384-a022-9ae76dddf196",
   "metadata": {},
   "outputs": [
    {
     "name": "stdout",
     "output_type": "stream",
     "text": [
      "1\n",
      "2\n",
      "3\n",
      "4\n",
      "5\n",
      "6\n",
      "7\n",
      "8\n",
      "9\n",
      "10\n"
     ]
    }
   ],
   "source": [
    "for i in range(1,11):\n",
    "    print(i)"
   ]
  },
  {
   "cell_type": "code",
   "execution_count": 11,
   "id": "2d0937b3-5bd5-416c-b82a-56f66f452fde",
   "metadata": {},
   "outputs": [
    {
     "name": "stdout",
     "output_type": "stream",
     "text": [
      "5\n",
      "6\n",
      "7\n",
      "8\n",
      "9\n",
      "10\n"
     ]
    }
   ],
   "source": [
    "for i in range(5,11):\n",
    "    print(i)"
   ]
  },
  {
   "cell_type": "code",
   "execution_count": 13,
   "id": "4f6dd227-6c39-416c-acdf-a4750e011bed",
   "metadata": {},
   "outputs": [
    {
     "name": "stdout",
     "output_type": "stream",
     "text": [
      "0\n",
      "1\n",
      "2\n",
      "3\n",
      "4\n",
      "5\n",
      "6\n",
      "7\n",
      "8\n",
      "9\n",
      "10\n",
      "11\n"
     ]
    }
   ],
   "source": [
    "i=0\n",
    "while i<12:\n",
    "    print(i)\n",
    "    i+=1"
   ]
  },
  {
   "cell_type": "code",
   "execution_count": 19,
   "id": "17e93202-91b9-488a-95f7-af27293a4107",
   "metadata": {},
   "outputs": [
    {
     "name": "stdout",
     "output_type": "stream",
     "text": [
      "Hello\n"
     ]
    }
   ],
   "source": [
    "for item in l:\n",
    "    pass # don't do anything\n",
    "print(\"Hello\")"
   ]
  },
  {
   "cell_type": "code",
   "execution_count": 20,
   "id": "4525d2f0-ffce-474e-bdb7-18b1d836b7bb",
   "metadata": {},
   "outputs": [
    {
     "name": "stdout",
     "output_type": "stream",
     "text": [
      "apples\n",
      "bananas\n",
      "tomatoes\n"
     ]
    }
   ],
   "source": [
    "l=[\"apples\", \"bananas\", \"tomatoes\"]\n",
    "for item in l:\n",
    "    print(item)"
   ]
  },
  {
   "cell_type": "code",
   "execution_count": 21,
   "id": "11a2cce5-0c76-451c-b107-7cff2b4f44b4",
   "metadata": {},
   "outputs": [
    {
     "name": "stdout",
     "output_type": "stream",
     "text": [
      "apples\n",
      "bananas\n"
     ]
    }
   ],
   "source": [
    "l=[\"apples\", \"bananas\", \"tomatoes\"]\n",
    "for item in l:\n",
    "    print(item)\n",
    "    if item == \"bananas\":\n",
    "        break #Stop this loop right here\n",
    "    "
   ]
  },
  {
   "cell_type": "code",
   "execution_count": 26,
   "id": "f9aed2c7-8bf5-4609-a616-18eefe1ed72b",
   "metadata": {},
   "outputs": [
    {
     "name": "stdout",
     "output_type": "stream",
     "text": [
      "apples\n",
      "tomatoes\n"
     ]
    }
   ],
   "source": [
    "l=[\"apples\", \"bananas\", \"tomatoes\"]\n",
    "for item in l:\n",
    "    if item == \"bananas\":\n",
    "        continue #stop this particular iteration of the loop\n",
    "    print(item)"
   ]
  },
  {
   "cell_type": "code",
   "execution_count": null,
   "id": "cb91ef8e-20ed-4ae3-be2b-37496a42b3ab",
   "metadata": {},
   "outputs": [],
   "source": []
  }
 ],
 "metadata": {
  "kernelspec": {
   "display_name": "Python 3 (ipykernel)",
   "language": "python",
   "name": "python3"
  },
  "language_info": {
   "codemirror_mode": {
    "name": "ipython",
    "version": 3
   },
   "file_extension": ".py",
   "mimetype": "text/x-python",
   "name": "python",
   "nbconvert_exporter": "python",
   "pygments_lexer": "ipython3",
   "version": "3.13.2"
  }
 },
 "nbformat": 4,
 "nbformat_minor": 5
}
