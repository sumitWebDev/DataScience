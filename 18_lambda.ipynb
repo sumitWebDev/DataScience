{
 "cells": [
  {
   "cell_type": "markdown",
   "id": "24c21c56-a7b0-4104-9e6a-d694f7792572",
   "metadata": {},
   "source": [
    "# Lambda Functions in Python\n",
    "\n",
    "A **lambda function** in Python is an **anonymous, single-expression function** defined using the `lambda` keyword. It is commonly used for **short, throwaway functions** where a full function definition is unnecessary.\n",
    "\n",
    "---\n",
    "\n",
    "## 1. Syntax of Lambda Functions\n",
    "\n",
    "```python\n",
    "lambda arguments: expression\n",
    "```\n",
    "\n",
    "- `lambda` → Keyword to define a lambda function  \n",
    "- `arguments` → Input parameters (comma-separated)  \n",
    "- `expression` → The operation performed (must be a **single** expression, not multiple statements)  \n",
    "\n",
    "### **Example: Simple Lambda Function**\n",
    "```python\n",
    "square = lambda x: x ** 2\n",
    "print(square(5))  # Output: 25\n",
    "```\n",
    "\n",
    "---\n",
    "\n",
    "## 2. Using Lambda Functions with `map()`, `filter()`, and `reduce()`\n",
    "\n",
    "### **2.1 Using `map()` with Lambda**\n",
    "Applies a function to each element of an iterable.\n",
    "\n",
    "```python\n",
    "numbers = [1, 2, 3, 4]\n",
    "squared = list(map(lambda x: x**2, numbers))\n",
    "print(squared)  # Output: [1, 4, 9, 16]\n",
    "```\n",
    "\n",
    "---\n",
    "\n",
    "### **2.2 Using `filter()` with Lambda**\n",
    "Filters elements based on a condition.\n",
    "\n",
    "```python\n",
    "numbers = [1, 2, 3, 4, 5, 6]\n",
    "evens = list(filter(lambda x: x % 2 == 0, numbers))\n",
    "print(evens)  # Output: [2, 4, 6]\n",
    "```\n",
    "\n",
    "---\n",
    "\n",
    "### **2.3 Using `reduce()` with Lambda**\n",
    "Reduces an iterable to a single value (requires `functools.reduce`).\n",
    "\n",
    "```python\n",
    "from functools import reduce\n",
    "\n",
    "numbers = [1, 2, 3, 4]\n",
    "product = reduce(lambda x, y: x * y, numbers)\n",
    "print(product)  # Output: 24\n",
    "```\n",
    "\n",
    "---\n",
    "\n",
    "## 3. Lambda with Multiple Arguments\n",
    "\n",
    "### **Example: Adding Two Numbers**\n",
    "```python\n",
    "add = lambda x, y: x + y\n",
    "print(add(3, 7))  # Output: 10\n",
    "```\n",
    "\n",
    "### **Example: Finding the Maximum of Two Numbers**\n",
    "```python\n",
    "maximum = lambda x, y: x if x > y else y\n",
    "print(maximum(10, 5))  # Output: 10\n",
    "```\n",
    "\n",
    "---\n",
    "\n",
    "## 4. Lambda in Sorting Functions\n",
    "\n",
    "### **Sorting a List of Tuples**\n",
    "```python\n",
    "students = [(\"Alice\", 85), (\"Bob\", 78), (\"Charlie\", 92)]\n",
    "students.sort(key=lambda student: student[1])  # Sort by score\n",
    "print(students)  # Output: [('Bob', 78), ('Alice', 85), ('Charlie', 92)]\n",
    "```\n",
    "\n",
    "---\n",
    "\n",
    "## 5. When to Use Lambda Functions?\n",
    "\n",
    " **Use Lambda Functions When:**\n",
    "- The function is **short and simple**.\n",
    "- Used **temporarily** inside another function (e.g., `map`, `filter`).\n",
    "- Avoiding defining a full function with `def`.\n",
    "\n",
    " **Avoid Lambda Functions When:**\n",
    "- The function is **complex** (use `def` for readability).\n",
    "- Multiple operations/statements are needed.\n",
    "\n",
    "---\n",
    "\n",
    "## Summary\n",
    "\n",
    "| Feature | Example |\n",
    "|---------|---------|\n",
    "| **Basic Lambda Function** | `lambda x: x**2` |\n",
    "| **With `map()`** | `map(lambda x: x**2, numbers)` |\n",
    "| **With `filter()`** | `filter(lambda x: x % 2 == 0, numbers)` |\n",
    "| **With `reduce()`** | `reduce(lambda x, y: x * y, numbers)` |\n",
    "| **Multiple Arguments** | `lambda x, y: x + y` |\n",
    "| **Sorting with Lambda** | `sort(key=lambda x: x[1])` |\n",
    " "
   ]
  },
  {
   "cell_type": "code",
   "execution_count": 1,
   "id": "7a4a3990-4a42-4833-9002-7bca959e262b",
   "metadata": {},
   "outputs": [],
   "source": [
    "cube = lambda X : X*X*X"
   ]
  },
  {
   "cell_type": "code",
   "execution_count": 2,
   "id": "e7bf3342-f17a-4f25-b35b-99f720cf0d5e",
   "metadata": {},
   "outputs": [
    {
     "data": {
      "text/plain": [
       "1"
      ]
     },
     "execution_count": 2,
     "metadata": {},
     "output_type": "execute_result"
    }
   ],
   "source": [
    "cube(1)"
   ]
  },
  {
   "cell_type": "code",
   "execution_count": 3,
   "id": "bb886a1b-a04b-4fbe-818d-ff28349be34a",
   "metadata": {},
   "outputs": [
    {
     "data": {
      "text/plain": [
       "27"
      ]
     },
     "execution_count": 3,
     "metadata": {},
     "output_type": "execute_result"
    }
   ],
   "source": [
    "cube(3)"
   ]
  },
  {
   "cell_type": "code",
   "execution_count": 4,
   "id": "2361960b-3404-4b66-b395-0dfff1678b27",
   "metadata": {},
   "outputs": [],
   "source": [
    "sum = lambda a,b: a+b"
   ]
  },
  {
   "cell_type": "code",
   "execution_count": 6,
   "id": "1295eed8-bdb9-4adc-96ed-c0c7f206c3bc",
   "metadata": {},
   "outputs": [
    {
     "data": {
      "text/plain": [
       "10"
      ]
     },
     "execution_count": 6,
     "metadata": {},
     "output_type": "execute_result"
    }
   ],
   "source": [
    "sum(4,6)"
   ]
  },
  {
   "cell_type": "code",
   "execution_count": null,
   "id": "68a28e1c-55f7-40da-85ab-74e149db3cdc",
   "metadata": {},
   "outputs": [],
   "source": []
  }
 ],
 "metadata": {
  "kernelspec": {
   "display_name": "Python 3 (ipykernel)",
   "language": "python",
   "name": "python3"
  },
  "language_info": {
   "codemirror_mode": {
    "name": "ipython",
    "version": 3
   },
   "file_extension": ".py",
   "mimetype": "text/x-python",
   "name": "python",
   "nbconvert_exporter": "python",
   "pygments_lexer": "ipython3",
   "version": "3.13.2"
  }
 },
 "nbformat": 4,
 "nbformat_minor": 5
}
