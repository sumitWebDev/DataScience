{
 "cells": [
  {
   "cell_type": "code",
   "execution_count": 3,
   "id": "bcd1162b-87b9-43e1-b642-4d7cacf03add",
   "metadata": {},
   "outputs": [],
   "source": [
    "import numpy as np\n",
    "import time"
   ]
  },
  {
   "cell_type": "code",
   "execution_count": 9,
   "id": "808ef63c-961f-44a3-8fe7-cc7c63b8d24b",
   "metadata": {},
   "outputs": [],
   "source": [
    "#Python Zip\n",
    "l1 = [1,2,4]\n",
    "l2= [6,7,8]"
   ]
  },
  {
   "cell_type": "code",
   "execution_count": 5,
   "id": "83a97ac3-02ff-4f92-b91d-44e679e82b60",
   "metadata": {},
   "outputs": [
    {
     "data": {
      "text/plain": [
       "[(1, 6), (2, 7), (4, 8)]"
      ]
     },
     "execution_count": 5,
     "metadata": {},
     "output_type": "execute_result"
    }
   ],
   "source": [
    "list(zip(l1,l2))"
   ]
  },
  {
   "cell_type": "code",
   "execution_count": 6,
   "id": "32b8e5de-5d98-4284-9be8-d2de8e00a3f4",
   "metadata": {},
   "outputs": [
    {
     "name": "stdout",
     "output_type": "stream",
     "text": [
      "0.04346632957458496\n"
     ]
    }
   ],
   "source": [
    "#With Python List\n",
    "size = 1_000_000\n",
    "\n",
    "l1 = list(range(size))\n",
    "l2 = list(range(size))\n",
    "\n",
    "start = time.time()\n",
    "add = [x+y for x,y in zip(l1,l2)]\n",
    "end = time.time()\n",
    "print(end - start)"
   ]
  },
  {
   "cell_type": "code",
   "execution_count": 7,
   "id": "e0355bf3-62ce-496d-b07e-ed0a715fc060",
   "metadata": {},
   "outputs": [
    {
     "name": "stdout",
     "output_type": "stream",
     "text": [
      "0.0110931396484375\n"
     ]
    }
   ],
   "source": [
    "#With Numpy\n",
    "size = 1_000_000\n",
    "\n",
    "l1 = np.array(list(range(size)))\n",
    "l2 = np.array(list(range(size)))\n",
    "\n",
    "start = time.time()\n",
    "add = l1+l2\n",
    "end = time.time()\n",
    "print(end - start)"
   ]
  },
  {
   "cell_type": "code",
   "execution_count": 10,
   "id": "930b9a3d-b089-4d7f-bd86-89480ac6be1f",
   "metadata": {},
   "outputs": [
    {
     "data": {
      "text/plain": [
       "array([1, 2, 3, 4, 5])"
      ]
     },
     "execution_count": 10,
     "metadata": {},
     "output_type": "execute_result"
    }
   ],
   "source": [
    "np.array([1,2,3,4,5])"
   ]
  },
  {
   "cell_type": "code",
   "execution_count": 11,
   "id": "14eb3011-3896-4e83-b630-ea8f8e3450f3",
   "metadata": {},
   "outputs": [
    {
     "data": {
      "text/plain": [
       "array(['1', '2', '3', '4', '5', 'Harry'], dtype='<U21')"
      ]
     },
     "execution_count": 11,
     "metadata": {},
     "output_type": "execute_result"
    }
   ],
   "source": [
    "np.array([1,2,3,4,5,\"Harry\"])"
   ]
  },
  {
   "cell_type": "code",
   "execution_count": 18,
   "id": "42e7e9a9-eab7-4b8e-8d99-84276097052f",
   "metadata": {},
   "outputs": [
    {
     "data": {
      "text/plain": [
       "array([[1, 2, 3],\n",
       "       [4, 5, 6]])"
      ]
     },
     "execution_count": 18,
     "metadata": {},
     "output_type": "execute_result"
    }
   ],
   "source": [
    "arr2 = np.array([[1,2,3]\n",
    "         ,[4,5,6]])\n",
    "arr2"
   ]
  },
  {
   "cell_type": "code",
   "execution_count": 19,
   "id": "ade500bb-3e86-4ac6-b108-b742fc6ce482",
   "metadata": {},
   "outputs": [
    {
     "data": {
      "text/plain": [
       "numpy.ndarray"
      ]
     },
     "execution_count": 19,
     "metadata": {},
     "output_type": "execute_result"
    }
   ],
   "source": [
    "type(arr2)"
   ]
  },
  {
   "cell_type": "code",
   "execution_count": 23,
   "id": "a663692f-067c-424b-94f2-e3f23661fb4b",
   "metadata": {},
   "outputs": [
    {
     "data": {
      "text/plain": [
       "(2, 3)"
      ]
     },
     "execution_count": 23,
     "metadata": {},
     "output_type": "execute_result"
    }
   ],
   "source": [
    "arr2.shape"
   ]
  },
  {
   "cell_type": "code",
   "execution_count": 24,
   "id": "3efcfe82-df49-466d-b7a1-e38347141f36",
   "metadata": {},
   "outputs": [
    {
     "name": "stdout",
     "output_type": "stream",
     "text": [
      "Python list size: 8056000 bytes\n",
      "NumPy array size: 8000 bytes\n"
     ]
    }
   ],
   "source": [
    "import sys\n",
    "list_data = list(range(1000))\n",
    "numpy_data = np.array(list_data)\n",
    "print(\"Python list size:\", sys.getsizeof(list_data) * len(list_data), \"bytes\")\n",
    "print(\"NumPy array size:\", numpy_data.nbytes, \"bytes\")"
   ]
  },
  {
   "cell_type": "code",
   "execution_count": 29,
   "id": "471fc3d6-4533-4383-8db2-e2ce01ea12ad",
   "metadata": {},
   "outputs": [
    {
     "name": "stdout",
     "output_type": "stream",
     "text": [
      "0.00014495849609375\n"
     ]
    }
   ],
   "source": [
    "#With Python List\n",
    "size = 1_000\n",
    "\n",
    "l1 = list(range(size))\n",
    "\n",
    "start = time.time()\n",
    "square = [x*x for x in l1]\n",
    "end = time.time()\n",
    "print(end - start)"
   ]
  },
  {
   "cell_type": "code",
   "execution_count": 28,
   "id": "ae5f77b1-80fb-4879-a067-e23646513b0e",
   "metadata": {},
   "outputs": [
    {
     "name": "stdout",
     "output_type": "stream",
     "text": [
      "9.703636169433594e-05\n"
     ]
    }
   ],
   "source": [
    "#With Numpy\n",
    "size = 1_000\n",
    "\n",
    "l1 = np.array(range(size))\n",
    "\n",
    "start = time.time()\n",
    "square = l1 ** 2\n",
    "end = time.time()\n",
    "print(end - start)"
   ]
  },
  {
   "cell_type": "code",
   "execution_count": null,
   "id": "963a169a-495d-4f02-a3a5-7a36a50797e7",
   "metadata": {},
   "outputs": [],
   "source": []
  }
 ],
 "metadata": {
  "kernelspec": {
   "display_name": "Python 3 (ipykernel)",
   "language": "python",
   "name": "python3"
  },
  "language_info": {
   "codemirror_mode": {
    "name": "ipython",
    "version": 3
   },
   "file_extension": ".py",
   "mimetype": "text/x-python",
   "name": "python",
   "nbconvert_exporter": "python",
   "pygments_lexer": "ipython3",
   "version": "3.13.2"
  }
 },
 "nbformat": 4,
 "nbformat_minor": 5
}
