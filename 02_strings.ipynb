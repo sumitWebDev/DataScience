{
 "cells": [
  {
   "cell_type": "code",
   "execution_count": 1,
   "id": "409e93fc-9cb5-414a-92da-5779d3a70798",
   "metadata": {},
   "outputs": [],
   "source": [
    "name = \"Harry\""
   ]
  },
  {
   "cell_type": "code",
   "execution_count": 2,
   "id": "32f84b64-52af-4862-a016-ce7a87f119b4",
   "metadata": {},
   "outputs": [
    {
     "data": {
      "text/plain": [
       "'Harry'"
      ]
     },
     "execution_count": 2,
     "metadata": {},
     "output_type": "execute_result"
    }
   ],
   "source": [
    "name"
   ]
  },
  {
   "cell_type": "code",
   "execution_count": 3,
   "id": "1ca1c71c-cbb2-4bd0-baf5-53867a5038b9",
   "metadata": {},
   "outputs": [
    {
     "data": {
      "text/plain": [
       "'HARRY'"
      ]
     },
     "execution_count": 3,
     "metadata": {},
     "output_type": "execute_result"
    }
   ],
   "source": [
    "name.upper()"
   ]
  },
  {
   "cell_type": "code",
   "execution_count": null,
   "id": "971dd398-6f3a-413b-85c2-25d608b89b34",
   "metadata": {},
   "outputs": [],
   "source": []
  }
 ],
 "metadata": {
  "kernelspec": {
   "display_name": "Python 3 (ipykernel)",
   "language": "python",
   "name": "python3"
  },
  "language_info": {
   "codemirror_mode": {
    "name": "ipython",
    "version": 3
   },
   "file_extension": ".py",
   "mimetype": "text/x-python",
   "name": "python",
   "nbconvert_exporter": "python",
   "pygments_lexer": "ipython3",
   "version": "3.13.2"
  }
 },
 "nbformat": 4,
 "nbformat_minor": 5
}
