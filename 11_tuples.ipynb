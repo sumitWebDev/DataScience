{
 "cells": [
  {
   "cell_type": "markdown",
   "id": "c86f1e22-776d-407b-89e6-b106a62de0c1",
   "metadata": {},
   "source": [
    "# Python Tuples and Tuple Methods\n",
    "\n",
    "## What is a Tuple?\n",
    "A **tuple** in Python is an ordered, immutable collection of elements. It is similar to a list, but once created, its elements cannot be modified.\n",
    "\n",
    "### Creating a Tuple:\n",
    "```python\n",
    "# Empty tuple\n",
    "empty_tuple = ()\n",
    "\n",
    "# Tuple with elements\n",
    "numbers = (1, 2, 3, 4, 5)\n",
    "\n",
    "# Mixed data types\n",
    "mixed_tuple = (1, \"Hello\", 3.14, True)\n",
    "\n",
    "# Single element tuple (comma is necessary)\n",
    "single_element = (42,)\n",
    "```\n",
    "\n",
    "## Common Tuple Methods\n",
    "\n",
    "| Method | Description | Example |\n",
    "|--------|------------|---------|\n",
    "| `count(x)` | Returns the number of times `x` appears in the tuple. | `my_tuple.count(2)` |\n",
    "| `index(x)` | Returns the index of the first occurrence of `x`. | `my_tuple.index(3)` |\n",
    "\n",
    "## Tuple Characteristics\n",
    "- **Immutable**: Once created, elements cannot be changed.\n",
    "- **Faster than lists**: Accessing elements in a tuple is faster than in a list.\n",
    "- **Can be used as dictionary keys**: Since tuples are immutable, they can be used as keys in dictionaries.\n",
    "\n",
    "## Accessing Tuple Elements\n",
    "```python\n",
    "my_tuple = (10, 20, 30, 40)\n",
    "\n",
    "# Indexing\n",
    "print(my_tuple[1])  # 20\n",
    "\n",
    "# Slicing\n",
    "print(my_tuple[1:3])  # (20, 30)\n",
    "```\n",
    "\n",
    "## Tuple Packing and Unpacking\n",
    "```python\n",
    "# Packing\n",
    "person = (\"Alice\", 25, \"Engineer\")\n",
    "\n",
    "# Unpacking\n",
    "name, age, profession = person\n",
    "print(name)  # Alice\n",
    "print(age)   # 25\n",
    "```\n",
    "\n",
    "## When to Use Tuples?\n",
    "- When you want an **unchangeable** collection of elements.\n",
    "- When you need a **faster** alternative to lists.\n",
    "- When storing **heterogeneous data** (e.g., database records, coordinates).\n"
   ]
  },
  {
   "cell_type": "code",
   "execution_count": 1,
   "id": "0502c736-c0e0-4073-bac6-008d42f05d36",
   "metadata": {},
   "outputs": [],
   "source": [
    "e=()"
   ]
  },
  {
   "cell_type": "code",
   "execution_count": 2,
   "id": "ac9ac8c3-56ca-4804-8ea9-05743d15ff49",
   "metadata": {},
   "outputs": [
    {
     "data": {
      "text/plain": [
       "()"
      ]
     },
     "execution_count": 2,
     "metadata": {},
     "output_type": "execute_result"
    }
   ],
   "source": [
    "e"
   ]
  },
  {
   "cell_type": "code",
   "execution_count": 3,
   "id": "b716a2d1-6a9b-447d-b17c-c9e5ff91fe0a",
   "metadata": {},
   "outputs": [
    {
     "data": {
      "text/plain": [
       "tuple"
      ]
     },
     "execution_count": 3,
     "metadata": {},
     "output_type": "execute_result"
    }
   ],
   "source": [
    "type(e)"
   ]
  },
  {
   "cell_type": "code",
   "execution_count": 4,
   "id": "98d868c8-934e-4016-97b9-750f77b2eb6d",
   "metadata": {},
   "outputs": [],
   "source": [
    "l=[]"
   ]
  },
  {
   "cell_type": "code",
   "execution_count": 5,
   "id": "fa6f0e30-8f40-40ee-81e7-b2866b67bc5e",
   "metadata": {},
   "outputs": [
    {
     "data": {
      "text/plain": [
       "list"
      ]
     },
     "execution_count": 5,
     "metadata": {},
     "output_type": "execute_result"
    }
   ],
   "source": [
    "type(l)"
   ]
  },
  {
   "cell_type": "code",
   "execution_count": 6,
   "id": "4a767946-26f3-4fc5-b91e-472c71122395",
   "metadata": {},
   "outputs": [],
   "source": [
    "t = (2,44,1,22)"
   ]
  },
  {
   "cell_type": "code",
   "execution_count": 7,
   "id": "4987f043-3b1f-4515-a032-510c6741b6d6",
   "metadata": {},
   "outputs": [
    {
     "data": {
      "text/plain": [
       "(2, 44, 1, 22)"
      ]
     },
     "execution_count": 7,
     "metadata": {},
     "output_type": "execute_result"
    }
   ],
   "source": [
    "t"
   ]
  },
  {
   "cell_type": "code",
   "execution_count": 8,
   "id": "76204774-f33e-450e-aa40-42fc2f7c3fe0",
   "metadata": {},
   "outputs": [
    {
     "data": {
      "text/plain": [
       "4"
      ]
     },
     "execution_count": 8,
     "metadata": {},
     "output_type": "execute_result"
    }
   ],
   "source": [
    "len(t)"
   ]
  },
  {
   "cell_type": "code",
   "execution_count": 9,
   "id": "33781846-4ac7-4cde-9e76-c22eb77f6229",
   "metadata": {},
   "outputs": [],
   "source": [
    "l = [2,44,1,22]"
   ]
  },
  {
   "cell_type": "code",
   "execution_count": 10,
   "id": "d50d3cf8-f568-4e9a-bb0f-a882da8b54e6",
   "metadata": {},
   "outputs": [
    {
     "data": {
      "text/plain": [
       "4"
      ]
     },
     "execution_count": 10,
     "metadata": {},
     "output_type": "execute_result"
    }
   ],
   "source": [
    "len(l)"
   ]
  },
  {
   "cell_type": "code",
   "execution_count": 11,
   "id": "ada2baf5-4005-473e-a648-579be96d7572",
   "metadata": {},
   "outputs": [
    {
     "data": {
      "text/plain": [
       "44"
      ]
     },
     "execution_count": 11,
     "metadata": {},
     "output_type": "execute_result"
    }
   ],
   "source": [
    "t[1]"
   ]
  },
  {
   "cell_type": "code",
   "execution_count": 12,
   "id": "9aa7d266-f47b-43e7-9f6e-2180535d212a",
   "metadata": {},
   "outputs": [
    {
     "ename": "IndexError",
     "evalue": "tuple index out of range",
     "output_type": "error",
     "traceback": [
      "\u001b[31m---------------------------------------------------------------------------\u001b[39m",
      "\u001b[31mIndexError\u001b[39m                                Traceback (most recent call last)",
      "\u001b[36mCell\u001b[39m\u001b[36m \u001b[39m\u001b[32mIn[12]\u001b[39m\u001b[32m, line 1\u001b[39m\n\u001b[32m----> \u001b[39m\u001b[32m1\u001b[39m \u001b[38;5;28mprint\u001b[39m(t[\u001b[32m6\u001b[39m])\n",
      "\u001b[31mIndexError\u001b[39m: tuple index out of range"
     ]
    }
   ],
   "source": [
    "print(t[6])"
   ]
  },
  {
   "cell_type": "code",
   "execution_count": 13,
   "id": "b408546e-e739-4a88-b6cf-8d9b795ca5d5",
   "metadata": {},
   "outputs": [
    {
     "ename": "TypeError",
     "evalue": "'tuple' object does not support item assignment",
     "output_type": "error",
     "traceback": [
      "\u001b[31m---------------------------------------------------------------------------\u001b[39m",
      "\u001b[31mTypeError\u001b[39m                                 Traceback (most recent call last)",
      "\u001b[36mCell\u001b[39m\u001b[36m \u001b[39m\u001b[32mIn[13]\u001b[39m\u001b[32m, line 1\u001b[39m\n\u001b[32m----> \u001b[39m\u001b[32m1\u001b[39m t[\u001b[32m1\u001b[39m]=\u001b[32m34\u001b[39m\n",
      "\u001b[31mTypeError\u001b[39m: 'tuple' object does not support item assignment"
     ]
    }
   ],
   "source": [
    "t[1]=34\n"
   ]
  },
  {
   "cell_type": "code",
   "execution_count": 17,
   "id": "29dcd56b-496a-4a56-89b4-ba252588f6d2",
   "metadata": {},
   "outputs": [
    {
     "data": {
      "text/plain": [
       "('Alice', 25, 'Engineer')"
      ]
     },
     "execution_count": 17,
     "metadata": {},
     "output_type": "execute_result"
    }
   ],
   "source": [
    "#packing\n",
    "person = (\"Alice\",25,\"Engineer\")\n",
    "person"
   ]
  },
  {
   "cell_type": "code",
   "execution_count": 18,
   "id": "c2f3c040-b9d5-4e47-a0a7-f26350884081",
   "metadata": {},
   "outputs": [],
   "source": [
    "name,age,profession = person"
   ]
  },
  {
   "cell_type": "code",
   "execution_count": 19,
   "id": "c5a1c363-54af-4a03-ad48-13aa927ea330",
   "metadata": {},
   "outputs": [
    {
     "data": {
      "text/plain": [
       "'Alice'"
      ]
     },
     "execution_count": 19,
     "metadata": {},
     "output_type": "execute_result"
    }
   ],
   "source": [
    "name"
   ]
  },
  {
   "cell_type": "code",
   "execution_count": null,
   "id": "59530d46-7fcc-42ea-9f3a-430de7f6e10e",
   "metadata": {},
   "outputs": [],
   "source": []
  }
 ],
 "metadata": {
  "kernelspec": {
   "display_name": "Python 3 (ipykernel)",
   "language": "python",
   "name": "python3"
  },
  "language_info": {
   "codemirror_mode": {
    "name": "ipython",
    "version": 3
   },
   "file_extension": ".py",
   "mimetype": "text/x-python",
   "name": "python",
   "nbconvert_exporter": "python",
   "pygments_lexer": "ipython3",
   "version": "3.13.2"
  }
 },
 "nbformat": 4,
 "nbformat_minor": 5
}
