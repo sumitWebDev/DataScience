{
 "cells": [
  {
   "cell_type": "markdown",
   "id": "2d8e35fb-31c9-46ca-bb79-d8b21b71d80c",
   "metadata": {},
   "source": [
    "# Python Sets and Set Methods\n",
    "\n",
    "## What is a Set?\n",
    "A **set** in Python is an **unordered**, **mutable**, and **unique** collection of elements. It does not allow duplicate values.\n",
    "\n",
    "### Creating a Set:\n",
    "```python\n",
    "# Empty set (must use set(), not {})\n",
    "empty_set = set()\n",
    "\n",
    "# Set with elements\n",
    "numbers = {1, 2, 3, 4, 5}\n",
    "\n",
    "# Mixed data types\n",
    "mixed_set = {1, \"Hello\", 3.14, True}\n",
    "\n",
    "# Creating a set from a list\n",
    "unique_numbers = set([1, 2, 2, 3, 4, 4, 5])\n",
    "print(unique_numbers)  # {1, 2, 3, 4, 5}\n",
    "```\n",
    "\n",
    "## Common Set Methods\n",
    "\n",
    "| Method | Description | Example |\n",
    "|--------|------------|---------|\n",
    "| `add(x)` | Adds an element `x` to the set. | `my_set.add(10)` |\n",
    "| `update(iterable)` | Adds multiple elements from an iterable. | `my_set.update([6, 7, 8])` |\n",
    "| `remove(x)` | Removes `x` from the set (raises an error if not found). | `my_set.remove(3)` |\n",
    "| `discard(x)` | Removes `x` from the set (does not raise an error if not found). | `my_set.discard(3)` |\n",
    "| `pop()` | Removes and returns a random element. | `my_set.pop()` |\n",
    "| `clear()` | Removes all elements from the set. | `my_set.clear()` |\n",
    "| `copy()` | Returns a shallow copy of the set. | `new_set = my_set.copy()` |\n",
    "\n",
    "## Set Operations\n",
    "\n",
    "| Operation | Description | Example |\n",
    "|-----------|------------|---------|\n",
    "| `union(set2)` | Returns a new set with all unique elements from both sets. | `set1.union(set2)` |\n",
    "| `intersection(set2)` | Returns a set with elements common to both sets. | `set1.intersection(set2)` |\n",
    "| `difference(set2)` | Returns a set with elements in `set1` but not in `set2`. | `set1.difference(set2)` |\n",
    "| `symmetric_difference(set2)` | Returns a set with elements in either `set1` or `set2`, but not both. | `set1.symmetric_difference(set2)` |\n",
    "| `issubset(set2)` | Returns `True` if `set1` is a subset of `set2`. | `set1.issubset(set2)` |\n",
    "| `issuperset(set2)` | Returns `True` if `set1` is a superset of `set2`. | `set1.issuperset(set2)` |\n",
    "\n",
    "## Example Usage:\n",
    "```python\n",
    "set1 = {1, 2, 3, 4}\n",
    "set2 = {3, 4, 5, 6}\n",
    "\n",
    "# Union\n",
    "print(set1 | set2)  # {1, 2, 3, 4, 5, 6}\n",
    "\n",
    "# Intersection\n",
    "print(set1 & set2)  # {3, 4}\n",
    "\n",
    "# Difference\n",
    "print(set1 - set2)  # {1, 2}\n",
    "\n",
    "# Symmetric Difference\n",
    "print(set1 ^ set2)  # {1, 2, 5, 6}\n",
    "```\n",
    "\n",
    "## Key Properties of Sets:\n",
    "- **Unordered**: No indexing or slicing.\n",
    "- **Unique Elements**: Duplicates are automatically removed.\n",
    "- **Mutable**: You can add or remove elements.\n"
   ]
  },
  {
   "cell_type": "code",
   "execution_count": 1,
   "id": "de6d45ab-d665-4316-ae6a-e5c9324f342f",
   "metadata": {},
   "outputs": [],
   "source": [
    "a = {}"
   ]
  },
  {
   "cell_type": "code",
   "execution_count": 2,
   "id": "3d70eaba-9abf-41d9-9d41-394c6b727db6",
   "metadata": {},
   "outputs": [
    {
     "data": {
      "text/plain": [
       "dict"
      ]
     },
     "execution_count": 2,
     "metadata": {},
     "output_type": "execute_result"
    }
   ],
   "source": [
    "type(a)"
   ]
  },
  {
   "cell_type": "code",
   "execution_count": 3,
   "id": "6d31368c-3aab-42fc-9728-babdf974e4f6",
   "metadata": {},
   "outputs": [],
   "source": [
    "b=set()"
   ]
  },
  {
   "cell_type": "code",
   "execution_count": 4,
   "id": "f7724495-9c4b-4639-bc98-bb8b47501021",
   "metadata": {},
   "outputs": [
    {
     "data": {
      "text/plain": [
       "set"
      ]
     },
     "execution_count": 4,
     "metadata": {},
     "output_type": "execute_result"
    }
   ],
   "source": [
    "type(b)"
   ]
  },
  {
   "cell_type": "code",
   "execution_count": 5,
   "id": "ce09ddc0-0c34-4638-b345-e970f5aa2493",
   "metadata": {},
   "outputs": [],
   "source": [
    "s={4,3,6,2,66,4}"
   ]
  },
  {
   "cell_type": "code",
   "execution_count": 7,
   "id": "8f8baaf8-d4fd-4dd0-8e31-268fdc9e09fb",
   "metadata": {},
   "outputs": [
    {
     "data": {
      "text/plain": [
       "{2, 3, 4, 6, 66}"
      ]
     },
     "execution_count": 7,
     "metadata": {},
     "output_type": "execute_result"
    }
   ],
   "source": [
    "s"
   ]
  },
  {
   "cell_type": "code",
   "execution_count": 8,
   "id": "c15c576a-81b5-4a6c-820c-2ca0a2c4477c",
   "metadata": {},
   "outputs": [
    {
     "name": "stdout",
     "output_type": "stream",
     "text": [
      "{1, 2, 3, 4, 5}\n"
     ]
    }
   ],
   "source": [
    "# Creating a set from a list\n",
    "unique_numbers = set([1, 2, 2, 3, 4, 4, 5])\n",
    "print(unique_numbers)  # {1, 2, 3, 4, 5}"
   ]
  },
  {
   "cell_type": "code",
   "execution_count": 9,
   "id": "37853b31-2ec3-4e27-a2c6-137072a2957c",
   "metadata": {},
   "outputs": [],
   "source": [
    "s={4,3,6,2,66,4}"
   ]
  },
  {
   "cell_type": "code",
   "execution_count": 10,
   "id": "7abdd66d-772b-4930-a792-6c7dc83e359b",
   "metadata": {},
   "outputs": [],
   "source": [
    "s.add(34)"
   ]
  },
  {
   "cell_type": "code",
   "execution_count": 11,
   "id": "49350efc-dab8-48aa-9d59-3a6ebbee1715",
   "metadata": {},
   "outputs": [
    {
     "data": {
      "text/plain": [
       "{2, 3, 4, 6, 34, 66}"
      ]
     },
     "execution_count": 11,
     "metadata": {},
     "output_type": "execute_result"
    }
   ],
   "source": [
    "s"
   ]
  },
  {
   "cell_type": "code",
   "execution_count": 12,
   "id": "b79a22bc-e7bf-48ec-b3f5-a71c424dd08e",
   "metadata": {},
   "outputs": [],
   "source": [
    "s.update([4,64,232])"
   ]
  },
  {
   "cell_type": "code",
   "execution_count": 13,
   "id": "101abbca-fdcc-419c-85d1-edf3f22fb0e7",
   "metadata": {},
   "outputs": [
    {
     "data": {
      "text/plain": [
       "{2, 3, 4, 6, 34, 64, 66, 232}"
      ]
     },
     "execution_count": 13,
     "metadata": {},
     "output_type": "execute_result"
    }
   ],
   "source": [
    "s"
   ]
  },
  {
   "cell_type": "code",
   "execution_count": 14,
   "id": "37f87448-e822-405b-a65c-0d9f1a809537",
   "metadata": {},
   "outputs": [],
   "source": [
    "s.remove(232)"
   ]
  },
  {
   "cell_type": "code",
   "execution_count": 15,
   "id": "2c1b4519-726a-4174-8088-b03e1b65c71b",
   "metadata": {},
   "outputs": [
    {
     "data": {
      "text/plain": [
       "{2, 3, 4, 6, 34, 64, 66}"
      ]
     },
     "execution_count": 15,
     "metadata": {},
     "output_type": "execute_result"
    }
   ],
   "source": [
    "s"
   ]
  },
  {
   "cell_type": "code",
   "execution_count": 16,
   "id": "89893b28-c8d5-449a-b3f9-00cd04d5d91b",
   "metadata": {},
   "outputs": [],
   "source": [
    "set1 = {1, 2, 3, 4}\n",
    "set2 = {3, 4, 5, 6}\n"
   ]
  },
  {
   "cell_type": "code",
   "execution_count": 18,
   "id": "a68d932a-50cb-47e2-824a-6dc59be01256",
   "metadata": {},
   "outputs": [
    {
     "data": {
      "text/plain": [
       "{1, 2, 3, 4, 5, 6}"
      ]
     },
     "execution_count": 18,
     "metadata": {},
     "output_type": "execute_result"
    }
   ],
   "source": [
    "set1.union(set2) #Returns new set and do not change the old one"
   ]
  },
  {
   "cell_type": "code",
   "execution_count": 19,
   "id": "cd18ccdf-5c93-4fe3-b65a-1eff952f5604",
   "metadata": {},
   "outputs": [
    {
     "data": {
      "text/plain": [
       "{3, 4}"
      ]
     },
     "execution_count": 19,
     "metadata": {},
     "output_type": "execute_result"
    }
   ],
   "source": [
    "set1.intersection(set2)"
   ]
  },
  {
   "cell_type": "code",
   "execution_count": 20,
   "id": "2f9450c0-91f4-4875-9cc5-483ef2d059a5",
   "metadata": {},
   "outputs": [],
   "source": [
    "sub = {1,3}"
   ]
  },
  {
   "cell_type": "code",
   "execution_count": 21,
   "id": "1c3493b7-6387-4c18-ac35-16a2677544f9",
   "metadata": {},
   "outputs": [
    {
     "data": {
      "text/plain": [
       "True"
      ]
     },
     "execution_count": 21,
     "metadata": {},
     "output_type": "execute_result"
    }
   ],
   "source": [
    "sub.issubset(set1)"
   ]
  },
  {
   "cell_type": "code",
   "execution_count": null,
   "id": "4b2c0849-ab39-4407-ac9d-7f137d239059",
   "metadata": {},
   "outputs": [],
   "source": [
    "set1.issuperset"
   ]
  }
 ],
 "metadata": {
  "kernelspec": {
   "display_name": "Python 3 (ipykernel)",
   "language": "python",
   "name": "python3"
  },
  "language_info": {
   "codemirror_mode": {
    "name": "ipython",
    "version": 3
   },
   "file_extension": ".py",
   "mimetype": "text/x-python",
   "name": "python",
   "nbconvert_exporter": "python",
   "pygments_lexer": "ipython3",
   "version": "3.13.2"
  }
 },
 "nbformat": 4,
 "nbformat_minor": 5
}
