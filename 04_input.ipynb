{
 "cells": [
  {
   "cell_type": "code",
   "execution_count": 1,
   "id": "90a616ab-2764-4ae7-b1e3-1d206bb0be3c",
   "metadata": {},
   "outputs": [
    {
     "name": "stdin",
     "output_type": "stream",
     "text": [
      "Enter value of A 45\n"
     ]
    }
   ],
   "source": [
    "a = input('Enter value of A') #By default it takes user input as string"
   ]
  },
  {
   "cell_type": "code",
   "execution_count": 3,
   "id": "1e236711-c139-423c-8c3c-f0b2403d45c5",
   "metadata": {},
   "outputs": [
    {
     "data": {
      "text/plain": [
       "'45'"
      ]
     },
     "execution_count": 3,
     "metadata": {},
     "output_type": "execute_result"
    }
   ],
   "source": [
    "a"
   ]
  },
  {
   "cell_type": "code",
   "execution_count": 4,
   "id": "5968bebe-4352-45cd-851f-8a2496babcb9",
   "metadata": {},
   "outputs": [
    {
     "name": "stdin",
     "output_type": "stream",
     "text": [
      "Enter value of B 45\n"
     ]
    }
   ],
   "source": [
    "b = input('Enter value of B')"
   ]
  },
  {
   "cell_type": "code",
   "execution_count": 5,
   "id": "74c00796-11ba-4cac-a0f4-dfce95b2941f",
   "metadata": {},
   "outputs": [
    {
     "data": {
      "text/plain": [
       "'4545'"
      ]
     },
     "execution_count": 5,
     "metadata": {},
     "output_type": "execute_result"
    }
   ],
   "source": [
    "a+b"
   ]
  },
  {
   "cell_type": "code",
   "execution_count": 6,
   "id": "e348e307-76e4-4bd5-8393-6bc0749c5a2e",
   "metadata": {},
   "outputs": [
    {
     "data": {
      "text/plain": [
       "90"
      ]
     },
     "execution_count": 6,
     "metadata": {},
     "output_type": "execute_result"
    }
   ],
   "source": [
    "int(a) + int(b)"
   ]
  }
 ],
 "metadata": {
  "kernelspec": {
   "display_name": "Python 3 (ipykernel)",
   "language": "python",
   "name": "python3"
  },
  "language_info": {
   "codemirror_mode": {
    "name": "ipython",
    "version": 3
   },
   "file_extension": ".py",
   "mimetype": "text/x-python",
   "name": "python",
   "nbconvert_exporter": "python",
   "pygments_lexer": "ipython3",
   "version": "3.13.2"
  }
 },
 "nbformat": 4,
 "nbformat_minor": 5
}
